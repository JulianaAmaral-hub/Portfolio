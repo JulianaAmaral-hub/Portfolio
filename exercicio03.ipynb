{
 "cells": [
  {
   "cell_type": "markdown",
   "metadata": {},
   "source": [
    "**Exercício 03: Redes Neurais Artificiais CLASSIFICAÇÃO**\n",
    "Célula de notas."
   ]
  },
  {
   "cell_type": "markdown",
   "metadata": {},
   "source": [
    "**Importando bibliotecas**"
   ]
  },
  {
   "cell_type": "code",
   "execution_count": 1,
   "metadata": {},
   "outputs": [],
   "source": [
    "import pandas as pd\n",
    "import numpy as np"
   ]
  },
  {
   "cell_type": "markdown",
   "metadata": {},
   "source": [
    "**Obtendo dados**"
   ]
  },
  {
   "cell_type": "code",
   "execution_count": 2,
   "metadata": {},
   "outputs": [
    {
     "name": "stdout",
     "output_type": "stream",
     "text": [
      "Obtendo dados...\n",
      "[4 1 5 2 3]\n",
      "overall_rating\n",
      "5    6122\n",
      "4    3933\n",
      "1    3856\n",
      "3    2127\n",
      "2    1029\n",
      "Name: count, dtype: int64\n",
      "                                          review_text  overall_rating\n",
      "0   Estou contente com a compra entrega rápida o ú...               4\n",
      "9   MEU PRODUTO NAO FOI ENTREGUE E A AMERICANAS ES...               1\n",
      "11  Produto maravilhoso! Não é barulhento, fácil m...               5\n",
      "15  a mochila nao esta fechando direito por isso n...               2\n",
      "22  Melhor do que imaginava. Superou minhas expect...               5\n"
     ]
    },
    {
     "name": "stderr",
     "output_type": "stream",
     "text": [
      "C:\\Users\\36131872024.1\\AppData\\Local\\Temp\\ipykernel_29832\\3177015159.py:9: DtypeWarning: Columns (2) have mixed types. Specify dtype option on import or set low_memory=False.\n",
      "  df = pd.read_csv(ENDEREÇO_DADOS, sep=',', encoding='utf-8')\n"
     ]
    }
   ],
   "source": [
    "# Célula de código do python\n",
    "try:\n",
    "    print('Obtendo dados...')\n",
    "\n",
    "    # Constante dos dados\n",
    "    ENDEREÇO_DADOS = 'https://raw.githubusercontent.com/americanas-tech/b2w-reviews01/refs/heads/main/B2W-Reviews01.csv'\n",
    "\n",
    "    # Obtendo dados e delimitando\n",
    "    df = pd.read_csv(ENDEREÇO_DADOS, sep=',', encoding='utf-8')\n",
    "\n",
    "    # Filtro por estado\n",
    "    df = df[df['reviewer_state'] =='RJ'][['review_text','overall_rating']]\n",
    "\n",
    "    # Excluindo dados que não existem (NaN) # equivalente a dados nulos null\n",
    "    df = df.dropna(subset=['review_text','overall_rating'])\n",
    "    \n",
    "    \n",
    "\n",
    "    # Transformando colunas em arrays\n",
    "    texts = np.array(df['review_text'])\n",
    "    rating = np.array(df['overall_rating'])\n",
    "\n",
    "    print(df['overall_rating'].unique()) # exibir categorias\n",
    "    print(df['overall_rating'].value_counts()) # exibir quantidade de valores por categoria\n",
    "\n",
    "    print(df.head())\n",
    "except Exception as e:\n",
    "    print('Erro ao obter dados: ',e)"
   ]
  },
  {
   "cell_type": "markdown",
   "metadata": {},
   "source": [
    "**Vetorização**"
   ]
  },
  {
   "cell_type": "markdown",
   "metadata": {},
   "source": [
    "Vetorizar o texto: transformar em números.\n",
    "Os números do rating, já estão vetorizados pois já estão transformados em array."
   ]
  },
  {
   "cell_type": "code",
   "execution_count": 3,
   "metadata": {},
   "outputs": [
    {
     "name": "stdout",
     "output_type": "stream",
     "text": [
      "Vetorizando texto...\n",
      "[[    0     0     0 ...   180    10   825]\n",
      " [    0     0     0 ...    11    36   329]\n",
      " [    0     0     0 ...    18    10  1205]\n",
      " ...\n",
      " [    0     0     0 ... 17732  9137 17733]\n",
      " [    0     0     0 ...     2   103  9137]\n",
      " [    0     0     0 ...    20    43   558]]\n",
      "Textos vetorizados com sucesso!\n"
     ]
    }
   ],
   "source": [
    "# Bibioteca para trabalhar com redes neurais artificiais\n",
    "# Tersorflow: https://www.tensorflow.org/?hl=pt-br\n",
    "from tensorflow.keras.preprocessing.text import Tokenizer # type:ignore  # Tokenizar\n",
    "from tensorflow.keras.preprocessing.sequence import pad_sequences # type:ignore  # Ajustar tamanho do vetor\n",
    "try:\n",
    "    print('Vetorizando texto...')\n",
    "\n",
    "    # Passo 1: tokenizar\n",
    "    tokenizer = Tokenizer() \n",
    "    # transforma todas as palavras do texto em tokens e cria um dicionário com índices das palavras\n",
    "    # Transforma texto em números\n",
    "\n",
    "    # Passo 2: Criar o dicionário\n",
    "    # fit_on_texts: Cria o vocabulário, através do dicionário\n",
    "    # associando cada token a um índice numérico a cada palavra\n",
    "    # lembrando que se a palavra aparecer mais de uma vez, ela vai receber o mesmo índice numérico.\n",
    "    tokenizer.fit_on_texts(texts)\n",
    "\n",
    "    # Passo 3: Vetorizar, ou seja, transformar os tokens em números,\n",
    "    # a partir do dicionário criado no passo 2\n",
    "    vetores = tokenizer.texts_to_sequences(texts)\n",
    "\n",
    "    # Passo 4: Padronização do tamanho do vetor - pad (adicina zeros 0)\n",
    "    padded_vetores = pad_sequences(vetores)\n",
    "\n",
    "    print(padded_vetores) # Vetorzão (Aula teórica)\n",
    "    print('Textos vetorizados com sucesso!')\n",
    "\n",
    "except Exception as e:\n",
    "    print('Erro ao vetorizar texto: ',e)"
   ]
  },
  {
   "cell_type": "markdown",
   "metadata": {},
   "source": [
    "**Rede Neural**"
   ]
  },
  {
   "cell_type": "code",
   "execution_count": 5,
   "metadata": {},
   "outputs": [
    {
     "name": "stdout",
     "output_type": "stream",
     "text": [
      "Contruindo a rede neural...\n"
     ]
    },
    {
     "data": {
      "text/html": [
       "<pre style=\"white-space:pre;overflow-x:auto;line-height:normal;font-family:Menlo,'DejaVu Sans Mono',consolas,'Courier New',monospace\"><span style=\"font-weight: bold\">Model: \"sequential_1\"</span>\n",
       "</pre>\n"
      ],
      "text/plain": [
       "\u001b[1mModel: \"sequential_1\"\u001b[0m\n"
      ]
     },
     "metadata": {},
     "output_type": "display_data"
    },
    {
     "data": {
      "text/html": [
       "<pre style=\"white-space:pre;overflow-x:auto;line-height:normal;font-family:Menlo,'DejaVu Sans Mono',consolas,'Courier New',monospace\">┏━━━━━━━━━━━━━━━━━━━━━━━━━━━━━━━━━┳━━━━━━━━━━━━━━━━━━━━━━━━┳━━━━━━━━━━━━━━━┓\n",
       "┃<span style=\"font-weight: bold\"> Layer (type)                    </span>┃<span style=\"font-weight: bold\"> Output Shape           </span>┃<span style=\"font-weight: bold\">       Param # </span>┃\n",
       "┡━━━━━━━━━━━━━━━━━━━━━━━━━━━━━━━━━╇━━━━━━━━━━━━━━━━━━━━━━━━╇━━━━━━━━━━━━━━━┩\n",
       "│ embedding_1 (<span style=\"color: #0087ff; text-decoration-color: #0087ff\">Embedding</span>)         │ (<span style=\"color: #00d7ff; text-decoration-color: #00d7ff\">None</span>, <span style=\"color: #00af00; text-decoration-color: #00af00\">529</span>, <span style=\"color: #00af00; text-decoration-color: #00af00\">133</span>)       │     <span style=\"color: #00af00; text-decoration-color: #00af00\">2,358,888</span> │\n",
       "├─────────────────────────────────┼────────────────────────┼───────────────┤\n",
       "│ lstm_1 (<span style=\"color: #0087ff; text-decoration-color: #0087ff\">LSTM</span>)                   │ (<span style=\"color: #00d7ff; text-decoration-color: #00d7ff\">None</span>, <span style=\"color: #00af00; text-decoration-color: #00af00\">529</span>, <span style=\"color: #00af00; text-decoration-color: #00af00\">128</span>)       │       <span style=\"color: #00af00; text-decoration-color: #00af00\">134,144</span> │\n",
       "├─────────────────────────────────┼────────────────────────┼───────────────┤\n",
       "│ lstm_2 (<span style=\"color: #0087ff; text-decoration-color: #0087ff\">LSTM</span>)                   │ (<span style=\"color: #00d7ff; text-decoration-color: #00d7ff\">None</span>, <span style=\"color: #00af00; text-decoration-color: #00af00\">64</span>)             │        <span style=\"color: #00af00; text-decoration-color: #00af00\">49,408</span> │\n",
       "├─────────────────────────────────┼────────────────────────┼───────────────┤\n",
       "│ dense (<span style=\"color: #0087ff; text-decoration-color: #0087ff\">Dense</span>)                   │ (<span style=\"color: #00d7ff; text-decoration-color: #00d7ff\">None</span>, <span style=\"color: #00af00; text-decoration-color: #00af00\">5</span>)              │           <span style=\"color: #00af00; text-decoration-color: #00af00\">325</span> │\n",
       "├─────────────────────────────────┼────────────────────────┼───────────────┤\n",
       "│ dropout (<span style=\"color: #0087ff; text-decoration-color: #0087ff\">Dropout</span>)               │ (<span style=\"color: #00d7ff; text-decoration-color: #00d7ff\">None</span>, <span style=\"color: #00af00; text-decoration-color: #00af00\">5</span>)              │             <span style=\"color: #00af00; text-decoration-color: #00af00\">0</span> │\n",
       "└─────────────────────────────────┴────────────────────────┴───────────────┘\n",
       "</pre>\n"
      ],
      "text/plain": [
       "┏━━━━━━━━━━━━━━━━━━━━━━━━━━━━━━━━━┳━━━━━━━━━━━━━━━━━━━━━━━━┳━━━━━━━━━━━━━━━┓\n",
       "┃\u001b[1m \u001b[0m\u001b[1mLayer (type)                   \u001b[0m\u001b[1m \u001b[0m┃\u001b[1m \u001b[0m\u001b[1mOutput Shape          \u001b[0m\u001b[1m \u001b[0m┃\u001b[1m \u001b[0m\u001b[1m      Param #\u001b[0m\u001b[1m \u001b[0m┃\n",
       "┡━━━━━━━━━━━━━━━━━━━━━━━━━━━━━━━━━╇━━━━━━━━━━━━━━━━━━━━━━━━╇━━━━━━━━━━━━━━━┩\n",
       "│ embedding_1 (\u001b[38;5;33mEmbedding\u001b[0m)         │ (\u001b[38;5;45mNone\u001b[0m, \u001b[38;5;34m529\u001b[0m, \u001b[38;5;34m133\u001b[0m)       │     \u001b[38;5;34m2,358,888\u001b[0m │\n",
       "├─────────────────────────────────┼────────────────────────┼───────────────┤\n",
       "│ lstm_1 (\u001b[38;5;33mLSTM\u001b[0m)                   │ (\u001b[38;5;45mNone\u001b[0m, \u001b[38;5;34m529\u001b[0m, \u001b[38;5;34m128\u001b[0m)       │       \u001b[38;5;34m134,144\u001b[0m │\n",
       "├─────────────────────────────────┼────────────────────────┼───────────────┤\n",
       "│ lstm_2 (\u001b[38;5;33mLSTM\u001b[0m)                   │ (\u001b[38;5;45mNone\u001b[0m, \u001b[38;5;34m64\u001b[0m)             │        \u001b[38;5;34m49,408\u001b[0m │\n",
       "├─────────────────────────────────┼────────────────────────┼───────────────┤\n",
       "│ dense (\u001b[38;5;33mDense\u001b[0m)                   │ (\u001b[38;5;45mNone\u001b[0m, \u001b[38;5;34m5\u001b[0m)              │           \u001b[38;5;34m325\u001b[0m │\n",
       "├─────────────────────────────────┼────────────────────────┼───────────────┤\n",
       "│ dropout (\u001b[38;5;33mDropout\u001b[0m)               │ (\u001b[38;5;45mNone\u001b[0m, \u001b[38;5;34m5\u001b[0m)              │             \u001b[38;5;34m0\u001b[0m │\n",
       "└─────────────────────────────────┴────────────────────────┴───────────────┘\n"
      ]
     },
     "metadata": {},
     "output_type": "display_data"
    },
    {
     "data": {
      "text/html": [
       "<pre style=\"white-space:pre;overflow-x:auto;line-height:normal;font-family:Menlo,'DejaVu Sans Mono',consolas,'Courier New',monospace\"><span style=\"font-weight: bold\"> Total params: </span><span style=\"color: #00af00; text-decoration-color: #00af00\">2,542,765</span> (9.70 MB)\n",
       "</pre>\n"
      ],
      "text/plain": [
       "\u001b[1m Total params: \u001b[0m\u001b[38;5;34m2,542,765\u001b[0m (9.70 MB)\n"
      ]
     },
     "metadata": {},
     "output_type": "display_data"
    },
    {
     "data": {
      "text/html": [
       "<pre style=\"white-space:pre;overflow-x:auto;line-height:normal;font-family:Menlo,'DejaVu Sans Mono',consolas,'Courier New',monospace\"><span style=\"font-weight: bold\"> Trainable params: </span><span style=\"color: #00af00; text-decoration-color: #00af00\">2,542,765</span> (9.70 MB)\n",
       "</pre>\n"
      ],
      "text/plain": [
       "\u001b[1m Trainable params: \u001b[0m\u001b[38;5;34m2,542,765\u001b[0m (9.70 MB)\n"
      ]
     },
     "metadata": {},
     "output_type": "display_data"
    },
    {
     "data": {
      "text/html": [
       "<pre style=\"white-space:pre;overflow-x:auto;line-height:normal;font-family:Menlo,'DejaVu Sans Mono',consolas,'Courier New',monospace\"><span style=\"font-weight: bold\"> Non-trainable params: </span><span style=\"color: #00af00; text-decoration-color: #00af00\">0</span> (0.00 B)\n",
       "</pre>\n"
      ],
      "text/plain": [
       "\u001b[1m Non-trainable params: \u001b[0m\u001b[38;5;34m0\u001b[0m (0.00 B)\n"
      ]
     },
     "metadata": {},
     "output_type": "display_data"
    },
    {
     "name": "stdout",
     "output_type": "stream",
     "text": [
      "Modelo configurado e criado com sucesso!\n"
     ]
    }
   ],
   "source": [
    "from tensorflow.keras.models import Sequential # type:ignore # Definir o modelo de rede neural utilizada\n",
    "from tensorflow.keras.layers import Embedding, LSTM, Dense, Dropout # type:ignore  # Camadas da rede neural\n",
    "# Embedding: Classe do tensorflow\n",
    "\n",
    "from tensorflow.keras.optimizers import Adam # type:ignore # otimizador de taxa de aprendizado\n",
    "try:\n",
    "    print('Contruindo a rede neural...')\n",
    "\n",
    "    # Constantes do modelo:\n",
    "\n",
    "    # 1ª Constante: Tamanho do vocabulário (tamanho do dicionário)\n",
    "    VOCAB_SIZE = len(tokenizer.word_index)+1 # +1 pois começa em 0\n",
    "\n",
    "    # 2ª Constante: Tamanho máximo da sequência\n",
    "    # É o comprimento máximo de um texto\n",
    "    MAX_SEQUENCE_LENGHT = padded_vetores.shape[1] # shape: tamanho das colunas dentro do vetor\n",
    "    # [   0    0    0 ...    0    0    3]\n",
    "\n",
    "    # 3ª Constante: Tamanho do vetor de entrada\n",
    "    # A literatura recomenda que inicia-se por uma quantidade igual a raiz quadrada do tamanho do vocabulário\n",
    "    # Se o volume de dados for de larga escala, pode-se testar iniciando com um tamanho maior\n",
    "    # Se o volume de dados for muito pequeno, pode-se testar iniciando com um tamanho menor\n",
    "    # Cuidado com o overfitting, quando o modelo aprende de mais e começa a perder a \n",
    "    # capacidade de generalizar melhor, ou seja, observar todas as diferenças textuais.\n",
    "    # Overfitting pode ser observado no treino da rede neural.\n",
    "    VETOR_LENGHT = int(np.sqrt(VOCAB_SIZE)) # raiz do tamanho do vocabuário\n",
    "\n",
    "    # Construção da rede neural (de regressão). Modelo sequencial\n",
    "    # Sequential é um fluxo linear de camadas (conforme visto na Aula 02_RNA.pptx)\n",
    "    # São processadas em ordem\n",
    "    model = Sequential()\n",
    "\n",
    "    # Camada de entrada\n",
    "    # Embeddings, na qual os vetores de texto são inseridos\n",
    "    model.add(Embedding(input_dim=VOCAB_SIZE, output_dim=VETOR_LENGHT, input_length=MAX_SEQUENCE_LENGHT))\n",
    "\n",
    "    # Camada oculta ou intermediária\n",
    "    # LSTM - Long short-term memory, \"memória de curto e longo prazo\"\n",
    "    # É onde o modelo treina, baseado nos seus vetores\n",
    "    # Números de unidades de memória, que basicamente á quantidade de \"neurônios\"\n",
    "    # Quanto maior a quantidade de neurônios, maior a acurácia, maior o custo de processamento\n",
    "    # Só é necessário ter uma camada para ter uma saída. Podem ter mais camadas.\n",
    "    # Primeiro TESTE, somente com 1 camada. Cuidado com o overfitting.\n",
    "    \n",
    "   \n",
    "    # Primeira camada oculta\n",
    "    model.add(LSTM(128, return_sequences=True)) # Uma camada intermediária terá 128 neurônios\n",
    "    # Para adicionar mais camadas, basta repetir o comando model.add(LSTM(128))\n",
    "    # É recomendado adicionar apenas uma camada de início. \n",
    "    # Após rodar o código, se necessário, vai adicionando novas camadas.\n",
    "    # LSTM é um tipo de camada oculta. Existem outras.\n",
    "    model.add(LSTM(64))\n",
    "    \n",
    "    # Próximas camadas ocultas...\n",
    "    #model.add(LSTM(128))\n",
    "\n",
    "    # Camada de Saída - Camada Densa\n",
    "    # Modelo de Classificação: Precisa ajustar para a quantidade de classes (categorias)\n",
    "    # 5 Camadas. É esse o modelo do código exemplo03.py\n",
    "    # Categorias: 1, 2, 3, 4 e 5\n",
    "    # Modelo de Classificação: tem mais camadas de saída\n",
    "    model.add(Dense(5, activation='softmax')) # ****** AJUSTE DE MODELO ******\n",
    "    model.add(Dropout(0.05))\n",
    "\n",
    "    # Construir o modelo\n",
    "    # É literalmente pegar as definições anteriores e construir o modelo\n",
    "    # input_shape: é o formato de dados de entrada e ainda o tamanho máximo do texto(MAX_SEQUENCE_LENGHT)\n",
    "    # None: o modelo verifica o dado de entrada e define o formato\n",
    "    model.build(input_shape=(None,MAX_SEQUENCE_LENGHT))\n",
    "\n",
    "    # Otimizador de taxa de aprendizado\n",
    "    # importante para ajustar em casos de overfitting\n",
    "    # Adam: É o otimizador que vai ajustar essa taxa de aprendizado\n",
    "    # learning_rate: Quanto menor, melhor o aprendizado. Menos risco de overfitting.\n",
    "    otimizador = Adam(learning_rate=0.0001) # Reduzindo para compensar o desbalanceamento das classes nos dados de entrada\n",
    "\n",
    "    # Compilar o modelo\n",
    "    # Verificar se possui algum erro\n",
    "    # Além disso vamos informar o otimizador e a nossa métrica de perda (loss)\n",
    "    # Usada para avaliar o modelo. Ver se existe overfitting ou não\n",
    "    # loss - sparse_categorical_crossentropy\n",
    "    model.compile(optimizer=otimizador, loss='sparse_categorical_crossentropy')\n",
    "\n",
    "    model.summary()\n",
    "    print('Modelo configurado e criado com sucesso!')\n",
    "\n",
    "\n",
    "\n",
    "except Exception as e:\n",
    "    print('Erro ao construir a rede neural: ',e)"
   ]
  },
  {
   "cell_type": "code",
   "execution_count": 6,
   "metadata": {},
   "outputs": [
    {
     "name": "stdout",
     "output_type": "stream",
     "text": [
      "Treinar o modelo de rede neural\n",
      "overall_rating\n",
      "5     2.787814\n",
      "4     4.339436\n",
      "1     4.426089\n",
      "3     8.023977\n",
      "2    16.586006\n",
      "Name: count, dtype: float64\n",
      "Epoch 1/5\n",
      "\u001b[1m427/427\u001b[0m \u001b[32m━━━━━━━━━━━━━━━━━━━━\u001b[0m\u001b[37m\u001b[0m \u001b[1m102s\u001b[0m 235ms/step - loss: 12.3600 - val_loss: 1.6679\n",
      "Epoch 2/5\n",
      "\u001b[1m427/427\u001b[0m \u001b[32m━━━━━━━━━━━━━━━━━━━━\u001b[0m\u001b[37m\u001b[0m \u001b[1m106s\u001b[0m 248ms/step - loss: 11.7793 - val_loss: 1.4943\n",
      "Epoch 3/5\n",
      "\u001b[1m427/427\u001b[0m \u001b[32m━━━━━━━━━━━━━━━━━━━━\u001b[0m\u001b[37m\u001b[0m \u001b[1m107s\u001b[0m 250ms/step - loss: 10.7904 - val_loss: 1.2682\n",
      "Epoch 4/5\n",
      "\u001b[1m427/427\u001b[0m \u001b[32m━━━━━━━━━━━━━━━━━━━━\u001b[0m\u001b[37m\u001b[0m \u001b[1m106s\u001b[0m 249ms/step - loss: 9.7434 - val_loss: 1.2486\n",
      "Epoch 5/5\n",
      "\u001b[1m427/427\u001b[0m \u001b[32m━━━━━━━━━━━━━━━━━━━━\u001b[0m\u001b[37m\u001b[0m \u001b[1m107s\u001b[0m 251ms/step - loss: 9.4088 - val_loss: 1.2612\n"
     ]
    }
   ],
   "source": [
    "from sklearn.model_selection import train_test_split\n",
    "# Treinar o modelo\n",
    "try:\n",
    "    print('Treinar o modelo de rede neural')\n",
    "\n",
    "    X_train, X_test, y_train, y_test = train_test_split(\n",
    "        padded_vetores,\n",
    "        rating,\n",
    "        test_size=0.2,\n",
    "        random_state=42\n",
    "    )\n",
    "    \n",
    "    # Para RNA de Classificação:\n",
    "    # Quando construimos uma rede neural de classificação, os rótulos que a RNA atribui, não começa em 1, começa em zero 0.\n",
    "    # Sendo que os dados são categorizados em 1, 2, 3, 4 e 5. \n",
    "    # Necessário ajustar as saídas (os y's)\n",
    "    y_train_adjusted = y_train -1\n",
    "    y_test_adjusted = y_test -1\n",
    "\n",
    "    pesos = len(df['overall_rating']) / df['overall_rating'].value_counts() # ***** AJUSTE DE MODELO*****\n",
    "    print(pesos)\n",
    "\n",
    "    # o treino da rede neural\n",
    "    model.fit(\n",
    "        X_train, \n",
    "        y_train_adjusted,\n",
    "        epochs=5, # Épocas de estudo da rede neural. Inicia com 5 e vai avaliando. \n",
    "        # Quanto mais epochs, mais aprendizado (mais processamento), porém cuidado com o overfitting.\n",
    "        # A regra é a experimentação, avaliando a perda de treino com a perda de teste.\n",
    "        # A busca é: loss (perda de treino) menor que val_loss (perda de teste).\n",
    "        batch_size=32, # Bloco de dados de treino. # Quando maior o tamanho da batch, tende menor o aprendizado, porém evita overfitting\n",
    "        # Quanto menor o tamanho da batch, tende a um maior aprendizado\n",
    "\n",
    "        class_weight = pesos.to_dict(), # ***** AJUSTE DE MODELO*****\n",
    "        validation_data=(X_test, y_test_adjusted)\n",
    "    )\n",
    "    # No caso da classificação, o loss precisa diminuir para não indicar overfitting\n",
    "\n",
    "except Exception as e:\n",
    "    print('Erro ao treinar o modelo de rede neural: ',e)"
   ]
  },
  {
   "cell_type": "code",
   "execution_count": 7,
   "metadata": {},
   "outputs": [
    {
     "name": "stdout",
     "output_type": "stream",
     "text": [
      "\u001b[1m1/1\u001b[0m \u001b[32m━━━━━━━━━━━━━━━━━━━━\u001b[0m\u001b[37m\u001b[0m \u001b[1m0s\u001b[0m 148ms/step\n",
      "Previsões:  [[0.00260395 0.00456954 0.05614957 0.40133768 0.5353393 ]\n",
      " [0.53987336 0.2614718  0.06625181 0.06333688 0.06906611]]\n"
     ]
    }
   ],
   "source": [
    "# Textos novos inseridos para realizar a previsão, baseada no modelo de rede neural treinado.\n",
    "# Nesse momento, você pode conectar em uma rede de dados (instagram...), para realizar as previsões de sentimento.\n",
    "\n",
    "novos_textos = ['Muito bom, gostei bastante. Top demais! Compensa muito! Exxcelente!!! Melhor produto da minha vida, não sei como vivi sem ele até hoje. Nada se compara com esse produto, muito bom',\n",
    "                'Não recomendo, péssimo produto. Não funciona. Uma grande MERDA!!!! Nunca vi coisa tão ruim na minha vida!!! Palhaçada! Me arrependo profundamente de ter comprado!!!!']\n",
    "\n",
    "# Vetorizar\n",
    "novas_sequencias = tokenizer.texts_to_sequences(novos_textos)\n",
    "novas_sequencias_padded = pad_sequences(novas_sequencias)\n",
    "\n",
    "# Análise preditiva\n",
    "predicoes = model.predict(novas_sequencias_padded)\n",
    "\n",
    "print('Previsões: ', predicoes) # com a ativação do softmax, podemos retirar o +1\n",
    "\n",
    "# Resultado em escala de 1 a 5. Sendo 1 ruim e 5 bom.\n",
    "# A probabilidade apresentada não é percentual.\n",
    "\n",
    "# Conferir código. Resultado não confere"
   ]
  }
 ],
 "metadata": {
  "kernelspec": {
   "display_name": "Python 3",
   "language": "python",
   "name": "python3"
  },
  "language_info": {
   "codemirror_mode": {
    "name": "ipython",
    "version": 3
   },
   "file_extension": ".py",
   "mimetype": "text/x-python",
   "name": "python",
   "nbconvert_exporter": "python",
   "pygments_lexer": "ipython3",
   "version": "3.11.4"
  },
  "orig_nbformat": 4
 },
 "nbformat": 4,
 "nbformat_minor": 2
}
